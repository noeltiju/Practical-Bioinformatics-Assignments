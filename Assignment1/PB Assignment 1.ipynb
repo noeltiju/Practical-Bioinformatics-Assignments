{
  "cells": [
    {
      "cell_type": "code",
      "execution_count": 2,
      "metadata": {
        "colab": {
          "base_uri": "https://localhost:8080/"
        },
        "id": "Fx3p8jHXygls",
        "outputId": "57cb4db4-f3eb-4529-a1a4-06a15461bac8"
      },
      "outputs": [
        {
          "output_type": "stream",
          "name": "stdout",
          "text": [
            "Collecting biopython\n",
            "  Downloading biopython-1.83-cp310-cp310-manylinux_2_17_x86_64.manylinux2014_x86_64.whl (3.1 MB)\n",
            "\u001b[2K     \u001b[90m━━━━━━━━━━━━━━━━━━━━━━━━━━━━━━━━━━━━━━━━\u001b[0m \u001b[32m3.1/3.1 MB\u001b[0m \u001b[31m11.3 MB/s\u001b[0m eta \u001b[36m0:00:00\u001b[0m\n",
            "\u001b[?25hRequirement already satisfied: numpy in /usr/local/lib/python3.10/dist-packages (from biopython) (1.23.5)\n",
            "Installing collected packages: biopython\n",
            "Successfully installed biopython-1.83\n"
          ]
        }
      ],
      "source": [
        "pip install biopython"
      ]
    },
    {
      "cell_type": "markdown",
      "source": [
        "# Assignment 1\n",
        "\n",
        "\n",
        "---\n",
        "\n",
        "\n",
        "**Part 1:**\n",
        "\n",
        "The first part of the assignment is to download the sequences for 16 chromosomes of the '**Saccharomyces Cerevisiae**'. The sequences are written to a file named '**chromsomeN.fasta**' in fasta format. The sequences are also stored in a dictionary called **chromosome_sequences**.\n",
        "\n",
        "\n",
        "**Part 2:**\n",
        "\n",
        "The second part of the assignment is to find ORI's in the organism. Since ORI's have some features called **Autonomously Replicating Sequence** (ARS). Using several forms of the ACS sequences referenced from multiple research papers I was able to find out the indices where the ARS was most likely to occur. Now, from research I found out that ORI's were likely to occur at the start of the ARS"
      ],
      "metadata": {
        "id": "prb8YTowPrSd"
      }
    },
    {
      "cell_type": "code",
      "execution_count": 3,
      "metadata": {
        "id": "UkKaUqxUYREB"
      },
      "outputs": [],
      "source": [
        "from Bio import Entrez\n",
        "Entrez.email = \"noel22338@iiitd.ac.in\"\n",
        "handle = Entrez.einfo()\n",
        "record = Entrez.read(handle)\n"
      ]
    },
    {
      "cell_type": "code",
      "execution_count": 4,
      "metadata": {
        "id": "qrRhRXb9YREG"
      },
      "outputs": [],
      "source": [
        "def download_fasta(email, accession_number, output_file):\n",
        "    Entrez.email = email\n",
        "    handle = Entrez.efetch(db = 'nucleotide', id = accession_number, rettype = 'fasta', retmode = 'text')\n",
        "    sequence = handle.read()\n",
        "    with open(output_file, 'w') as f:\n",
        "        f.write(sequence)\n",
        "\n",
        "# The above function takes arguments and and writes the sequence to an output file"
      ]
    },
    {
      "cell_type": "code",
      "execution_count": 5,
      "metadata": {
        "id": "NEjpE4g5YREG"
      },
      "outputs": [],
      "source": [
        "# Q1:\n",
        "\n",
        "# The below dictionary contains the accession numbers of the 16 chromosomes present in 'Saccharomyces Cerevisiae'.\n",
        "# The dictionary is iterated and the corresponding sequence of each chromosome is stored in a file of format (key).fasta. Example for key \"chromosome1\" the output file is \"chromosome1.fasta\"\n",
        "\n",
        "\n",
        "email = \"noel22338@iiitd.ac.in\"\n",
        "accession_numbers = {\n",
        "    'chromosome1':'NC_001133.9' ,\n",
        "    'chromosome2':'NC_001134.8' ,\n",
        "    'chromosome3':'NC_001135.5' ,\n",
        "    'chromosome4':'NC_001136.10' ,\n",
        "    'chromosome5':'NC_001137.3' ,\n",
        "    'chromosome6':'NC_001138.5' ,\n",
        "    'chromosome7':'NC_001139.9' ,\n",
        "    'chromosome8':'NC_001140.6' ,\n",
        "    'chromosome9':'NC_001141.2' ,\n",
        "    'chromosome10':'NC_001142.9',\n",
        "    'chromosome11':'NC_001143.9' ,\n",
        "    'chromosome12':'NC_001144.5' ,\n",
        "    'chromosome13':'NC_001145.3' ,\n",
        "    'chromosome14':'NC_001146.8' ,\n",
        "    'chromosome15':'NC_001147.6' ,\n",
        "    'chromosome16':'NC_001148.4'\n",
        "}\n",
        "\n",
        "email = 'noel22338@iiitd.ac.in'\n",
        "for chromosome, accession_number in accession_numbers.items():\n",
        "  output_file = f\"{chromosome}.fasta\"\n",
        "  download_fasta(email, accession_number, output_file)\n"
      ]
    },
    {
      "cell_type": "code",
      "execution_count": 6,
      "metadata": {
        "colab": {
          "base_uri": "https://localhost:8080/"
        },
        "id": "iSawsJ6JYREH",
        "outputId": "08ce4e8a-b81b-4b39-a80f-3bfd614b48d3"
      },
      "outputs": [
        {
          "output_type": "stream",
          "name": "stdout",
          "text": [
            "NC_001133.9\n",
            "230218\n",
            "39.27017001277051\n",
            "\n",
            "NC_001134.8\n",
            "813184\n",
            "38.34101507161971\n",
            "\n",
            "NC_001135.5\n",
            "316620\n",
            "38.53231002463521\n",
            "\n",
            "NC_001136.10\n",
            "1531933\n",
            "37.90642280047496\n",
            "\n",
            "NC_001137.3\n",
            "576874\n",
            "38.50736902685855\n",
            "\n",
            "NC_001138.5\n",
            "270161\n",
            "38.728758036874304\n",
            "\n",
            "NC_001139.9\n",
            "1090940\n",
            "38.06139659376318\n",
            "\n",
            "NC_001140.6\n",
            "562643\n",
            "38.49510257836675\n",
            "\n",
            "NC_001141.2\n",
            "439888\n",
            "38.902175099116135\n",
            "\n",
            "NC_001142.9\n",
            "745751\n",
            "38.37326399830506\n",
            "\n",
            "NC_001143.9\n",
            "666816\n",
            "38.069422449371345\n",
            "\n",
            "NC_001144.5\n",
            "1078177\n",
            "38.47633551819414\n",
            "\n",
            "NC_001145.3\n",
            "924431\n",
            "38.20360848997924\n",
            "\n",
            "NC_001146.8\n",
            "784333\n",
            "38.6379254729815\n",
            "\n",
            "NC_001147.6\n",
            "1091291\n",
            "38.16021574447145\n",
            "\n",
            "NC_001148.4\n",
            "948066\n",
            "38.0644385517464\n",
            "\n"
          ]
        }
      ],
      "source": [
        "# The below block of code prints the content in each file as well as makes the dictionary with each chromosome as a key corresponding to its sequence as a value\n",
        "\n",
        "from Bio import SeqIO\n",
        "chromosome_sequences = {}\n",
        "for i in range(1,17):\n",
        "  for seq_record in list(SeqIO.parse(f\"chromosome{i}.fasta\", \"fasta\")):\n",
        "      print(seq_record.id)\n",
        "      print(len(seq_record.seq))\n",
        "      chromosome_sequences[f\"chromosome{i}\"] = seq_record.seq\n",
        "      g = seq_record.count(\"G\")\n",
        "      c = seq_record.count(\"C\")\n",
        "\n",
        "      per = (g + c)/len(seq_record)*100 #Stability of the molecuole\n",
        "      print (per)\n",
        "      print()\n",
        "\n"
      ]
    },
    {
      "cell_type": "markdown",
      "source": [
        "In the research paper it was mentioned that two functional domains within ARS1 namely Domain A and B.\n",
        "\n",
        "Domain A constitutes the 11 bp sequence whose consensus **(A/T)TTTAT(A/G)TTT(A/T)** is referred to as ACS.\n",
        "\n",
        "When additional ACSs were identified, a 17 bp extended ACS (EACS) was defined **(A/T)(A/T)(A/T)-{ACS}-(G/T)(A/T)(A/T)** (Heichinger et al., 2006).\n",
        "\n",
        "The above references were made from this\n",
        "[research paper](https://www.sciencedirect.com/science/article/pii/S0923250812000435#bib72)\n"
      ],
      "metadata": {
        "id": "fSDYQid8XH7s"
      }
    },
    {
      "cell_type": "code",
      "execution_count": 7,
      "metadata": {
        "colab": {
          "base_uri": "https://localhost:8080/"
        },
        "id": "9femR6UgWurM",
        "outputId": "c746c620-414a-4a57-96e4-3a689970cf63"
      },
      "outputs": [
        {
          "output_type": "stream",
          "name": "stdout",
          "text": [
            "\n",
            "ACS_Sequence length : 11\n",
            "EACS_Sequence length : 17\n",
            "\n"
          ]
        }
      ],
      "source": [
        "ACS_sequence = [['A', 'T'], ['T'], ['T'], ['T'], ['A'], ['T'], ['A', 'G'], ['T'], ['T'], ['T'], ['A', 'T']]\n",
        "EACS_sequence = [['A', 'T'], ['A', 'T'], ['A', 'T'], ['A', 'T'], ['T'], ['T'], ['T'], ['A'], ['T'], ['A', 'G'], ['T'], ['T'], ['T'], ['A', 'T'], ['G','T'], ['A', 'T'], ['A', 'T']]\n",
        "print(f\"\"\"\n",
        "ACS_Sequence length : {len(ACS_sequence)}\n",
        "EACS_Sequence length : {len(EACS_sequence)}\n",
        "\"\"\")\n"
      ]
    },
    {
      "cell_type": "code",
      "execution_count": 8,
      "metadata": {
        "colab": {
          "base_uri": "https://localhost:8080/"
        },
        "id": "qnhBSARZYv0h",
        "outputId": "826eefdb-58fb-4cfc-8dfb-fe9c2a75b16a"
      },
      "outputs": [
        {
          "output_type": "stream",
          "name": "stdout",
          "text": [
            "{'chromosome1': Seq('CCACACCACACCCACACACCCACACACCACACCACACACCACACCACACCCACA...GGG'), 'chromosome2': Seq('AAATAGCCCTCATGTACGTCTCCTCCAAGCCCTGTTGTCTCTTACCCGGATGTT...TGT'), 'chromosome3': Seq('CCCACACACCACACCCACACCACACCCACACACCACACACACCACACCCACACA...GTG'), 'chromosome4': Seq('ACACCACACCCACACCACACCCACACACACCACACCCACACACCACACCCACAC...TGG'), 'chromosome5': Seq('CGTCTCCTCCAAGCCCTGTTGTCTCTTACCCGGATGTTCAACCAAAAGCTACTT...TTT'), 'chromosome6': Seq('GATCTCGCAAGTGCATTCCTAGACTTAATTCATATCTGCTCCTCAACTGTCGAT...TGG'), 'chromosome7': Seq('CCACACCCACACACACCACACCCACACCCACACACTACCCTAACACTACCCTAA...TTT'), 'chromosome8': Seq('CCCACACACACCACACCCACACACCACACCCACACTTTTCACATCTACCTCTAC...TGG'), 'chromosome9': Seq('CACACACACCACACCCACACCACACCACACCACACCCACACCCACACACACCAC...TGT'), 'chromosome10': Seq('CCCACACACACACCACACCCACACCCACACACACCACACCCACACACCACACCC...TGT'), 'chromosome11': Seq('CACCACACCCACACACCACACCCACACACACACCACACCCACACACCACACCCA...TGT'), 'chromosome12': Seq('CACACACACACACCACCCACACACCACACCACACACCACACCACACACCACACC...TTT'), 'chromosome13': Seq('CCACACACACACCACACCCACACCACACCCACACCCACACCCACACCCACACTT...GGG'), 'chromosome14': Seq('CCGGCTTTCTGACCGAAATTAAAAAAAAAAAATGAAAATGAAACCCTGTTCTTT...GGT'), 'chromosome15': Seq('ACACCACACCCACACCACACCCACACCCACACACCACACCCACACACACACACA...TGT'), 'chromosome16': Seq('AAATAGCCCTCATGTACGTCTCCTCCAAGCCCTGTTGTCTCTTACCCGGATGTT...AAA')}\n"
          ]
        }
      ],
      "source": [
        "print(chromosome_sequences)"
      ]
    },
    {
      "cell_type": "code",
      "execution_count": 9,
      "metadata": {
        "id": "ZyuMnLFEb_jt"
      },
      "outputs": [],
      "source": [
        "ACS_count = {}\n",
        "ACS_indices = {}\n",
        "for chromosome, sequence in chromosome_sequences.items():\n",
        "  count = 0\n",
        "  indices = []\n",
        "  for index in range(0, len(sequence) - 10):\n",
        "    status = True\n",
        "    start_index = index\n",
        "    for seq_index in range(0,11):\n",
        "      if sequence[index + seq_index] not in ACS_sequence[seq_index]:\n",
        "        status = False\n",
        "    if (status):\n",
        "        count+=1\n",
        "        indices.append(start_index)\n",
        "\n",
        "  ACS_count[chromosome] = count\n",
        "  ACS_indices[chromosome] = indices\n",
        "\n",
        "\n"
      ]
    },
    {
      "cell_type": "code",
      "execution_count": 10,
      "metadata": {
        "colab": {
          "base_uri": "https://localhost:8080/"
        },
        "id": "CTcg2sY_hNTE",
        "outputId": "4ead34b3-5b39-4f11-f484-fd73a8cb8897"
      },
      "outputs": [
        {
          "output_type": "stream",
          "name": "stdout",
          "text": [
            "{'chromosome1': 6, 'chromosome2': 17, 'chromosome3': 8, 'chromosome4': 38, 'chromosome5': 19, 'chromosome6': 3, 'chromosome7': 22, 'chromosome8': 11, 'chromosome9': 16, 'chromosome10': 18, 'chromosome11': 18, 'chromosome12': 23, 'chromosome13': 23, 'chromosome14': 17, 'chromosome15': 20, 'chromosome16': 21}\n",
            "280\n",
            "{'chromosome1': [17149, 159953, 176236, 176522, 208605, 229450], 'chromosome2': [80, 122598, 195767, 238293, 326080, 368745, 381151, 420235, 543395, 568821, 603190, 622760, 632052, 665038, 755032, 792466, 812416], 'chromosome3': [11256, 14700, 74520, 78863, 201845, 224863, 231261, 315820], 'chromosome4': [50459, 67634, 77223, 104908, 111128, 210566, 232057, 233925, 263124, 340870, 347217, 405175, 420761, 427871, 443872, 477645, 480280, 521602, 521761, 561437, 609151, 677939, 709270, 807779, 913867, 1057898, 1070495, 1182775, 1240933, 1272225, 1398457, 1404336, 1422530, 1445629, 1447485, 1462061, 1462567, 1524662], 'chromosome5': [64, 7976, 16057, 49778, 59536, 99492, 105316, 109085, 110515, 230002, 280702, 284609, 287569, 301681, 309689, 345455, 390603, 498891, 569636], 'chromosome6': [27962, 80490, 195147], 'chromosome7': [2378, 35566, 41364, 43207, 65477, 147026, 203973, 303491, 396274, 451140, 545272, 561391, 574702, 588415, 597431, 728056, 747072, 836306, 929386, 952440, 1060021, 1083672], 'chromosome8': [245, 16518, 64123, 83827, 147808, 236775, 304820, 380992, 457805, 479735, 529202], 'chromosome9': [287, 33479, 50457, 97191, 110140, 140546, 155110, 175175, 214737, 223179, 246020, 295755, 355641, 357227, 406426, 439105], 'chromosome10': [270, 40166, 58840, 150689, 184345, 250822, 270058, 283500, 286691, 337354, 409340, 445361, 510391, 645374, 675075, 724521, 724949, 744939], 'chromosome11': [15940, 30312, 42403, 98352, 98386, 153748, 213538, 215299, 277028, 320816, 329728, 351069, 376306, 458672, 517064, 551705, 642785, 665941], 'chromosome12': [283, 5920, 106161, 122397, 136251, 178704, 291531, 328578, 450507, 492690, 592867, 622065, 659894, 687936, 710150, 795564, 802504, 822091, 849619, 993047, 1007242, 1013791, 1064318], 'chromosome13': [261, 44861, 103857, 137323, 149621, 159048, 226915, 236673, 263128, 284809, 286360, 287892, 372107, 397488, 505238, 520013, 624332, 684223, 763914, 790119, 800176, 878722, 923577], 'chromosome14': [171, 36228, 283059, 340875, 348888, 358975, 364246, 479446, 508773, 585465, 591246, 609521, 609538, 691986, 738721, 769793, 783315], 'chromosome15': [35716, 92017, 167005, 300175, 483177, 488522, 513108, 663647, 729797, 778495, 829874, 832528, 843668, 848300, 900041, 935686, 981513, 1004267, 1046030, 1083959], 'chromosome16': [80, 23522, 72088, 116595, 159963, 384599, 434198, 443871, 458609, 459744, 481285, 511642, 511710, 563884, 564008, 702002, 815973, 842792, 880913, 910154, 942433]}\n"
          ]
        }
      ],
      "source": [
        "print(ACS_count)\n",
        "print(sum(ACS_count.values()))\n",
        "print(ACS_indices)"
      ]
    },
    {
      "cell_type": "code",
      "execution_count": 11,
      "metadata": {
        "id": "byGhbgPNjF2B"
      },
      "outputs": [],
      "source": [
        "EACS_count = {}\n",
        "EACS_indices = {}\n",
        "for chromosome, sequence in chromosome_sequences.items():\n",
        "  count = 0\n",
        "  indices = []\n",
        "  for index in range(0, len(sequence) - 16):\n",
        "    status = True\n",
        "    start_index = index\n",
        "    for seq_index in range(0,17):\n",
        "      if sequence[index + seq_index] not in EACS_sequence[seq_index]:\n",
        "        status = False\n",
        "    if (status):\n",
        "        count+=1\n",
        "        indices.append(start_index)\n",
        "  EACS_count[chromosome] = count\n",
        "  EACS_indices[chromosome] = indices"
      ]
    },
    {
      "cell_type": "code",
      "execution_count": 12,
      "metadata": {
        "colab": {
          "base_uri": "https://localhost:8080/"
        },
        "id": "CEvf6pQHmPGY",
        "outputId": "1697c716-c233-4fdf-dd9e-1e64617be999"
      },
      "outputs": [
        {
          "output_type": "stream",
          "name": "stdout",
          "text": [
            "{'chromosome1': 1, 'chromosome2': 2, 'chromosome3': 1, 'chromosome4': 5, 'chromosome5': 1, 'chromosome6': 0, 'chromosome7': 3, 'chromosome8': 2, 'chromosome9': 3, 'chromosome10': 1, 'chromosome11': 2, 'chromosome12': 0, 'chromosome13': 4, 'chromosome14': 3, 'chromosome15': 1, 'chromosome16': 2}\n",
            "31\n",
            "{'chromosome1': [176519], 'chromosome2': [122595, 632049], 'chromosome3': [11253], 'chromosome4': [50456, 347214, 677936, 913864, 1447482], 'chromosome5': [287566], 'chromosome6': [], 'chromosome7': [43204, 203970, 728053], 'chromosome8': [147805, 479732], 'chromosome9': [214734, 355638, 357224], 'chromosome10': [445358], 'chromosome11': [98349, 458669], 'chromosome12': [], 'chromosome13': [137320, 226912, 284806, 878719], 'chromosome14': [479443, 609518, 609535], 'chromosome15': [1004264], 'chromosome16': [116592, 458606]}\n"
          ]
        }
      ],
      "source": [
        "print(EACS_count)\n",
        "print(sum(EACS_count.values()))\n",
        "print(EACS_indices)"
      ]
    },
    {
      "cell_type": "markdown",
      "source": [
        "WWWWTTTAYRTTTWGTT, where W = A or T, Y = C or T, and R = A or G\n",
        "\n",
        "The above version of the ACS_sequence consisting of 17 base pairs is referenced from the below research paper.\n",
        "ARSs contain the 17 bp ARS consensus sequence (ACS), which binds the origin recognition complex.\n",
        "\n",
        "The above sequence was referenced from this\n",
        "[research paper](https://genomebiology.biomedcentral.com/articles/10.1186/gb-2004-5-4-r22#:~:text=Autonomously%20replicating%20sequences%20(ARSs)%20function,binds%20the%20origin%20recognition%20complex.)"
      ],
      "metadata": {
        "id": "BLxtFYQwXg4X"
      }
    },
    {
      "cell_type": "code",
      "source": [
        "# WWWWTTTAYRTTTWGTT, where W = A or T, Y = C or T, and R = A or G\n",
        "\n",
        "# The above version of the ACS_sequence consisting of 17 base pairs is referenced from the below research paper.\n",
        "# ARSs contain the 17 bp ARS consensus sequence (ACS), which binds the origin recognition complex.\n",
        "\n",
        "# https://genomebiology.biomedcentral.com/articles/10.1186/gb-2004-5-4-r22#:~:text=Autonomously%20replicating%20sequences%20(ARSs)%20function,binds%20the%20origin%20recognition%20complex.\n",
        "\n",
        "ACS_17_initial = 'WWWWTTTAYRTTTWGTT'\n",
        "ACS_17_sequence = []\n",
        "\n",
        "for i in ACS_17_initial:\n",
        "  if i == \"W\":\n",
        "    ACS_17_sequence.append(['A','T'])\n",
        "  elif i == \"Y\":\n",
        "    ACS_17_sequence.append(['C','T'])\n",
        "  elif i == \"R\":\n",
        "    ACS_17_sequence.append(['A','G'])\n",
        "  else:\n",
        "    ACS_17_sequence.append(list(i))\n",
        "\n",
        "ACS_17_count = {}\n",
        "ACS_17_indices = {}\n",
        "for chromosome, sequence in chromosome_sequences.items():\n",
        "  count = 0\n",
        "  indices = []\n",
        "  for index in range(0, len(sequence) - 16):\n",
        "    status = True\n",
        "    start_index = index\n",
        "    for seq_index in range(0,17):\n",
        "      if sequence[index + seq_index] not in ACS_17_sequence[seq_index]:\n",
        "        status = False\n",
        "    if (status):\n",
        "        count+=1\n",
        "        indices.append(start_index)\n",
        "  ACS_17_count[chromosome] = count\n",
        "  ACS_17_indices[chromosome] = indices\n"
      ],
      "metadata": {
        "id": "fyj8EY1eHyLB"
      },
      "execution_count": 13,
      "outputs": []
    },
    {
      "cell_type": "code",
      "source": [
        "print(ACS_17_count)\n",
        "print(sum(ACS_17_count.values()))\n",
        "print(ACS_17_indices)"
      ],
      "metadata": {
        "colab": {
          "base_uri": "https://localhost:8080/"
        },
        "id": "qEx-biiUQTJo",
        "outputId": "068e2006-c1f8-4f50-c15c-b75d0c1e5ea3"
      },
      "execution_count": 15,
      "outputs": [
        {
          "output_type": "stream",
          "name": "stdout",
          "text": [
            "{'chromosome1': 0, 'chromosome2': 0, 'chromosome3': 0, 'chromosome4': 2, 'chromosome5': 1, 'chromosome6': 0, 'chromosome7': 0, 'chromosome8': 0, 'chromosome9': 1, 'chromosome10': 0, 'chromosome11': 1, 'chromosome12': 0, 'chromosome13': 1, 'chromosome14': 0, 'chromosome15': 0, 'chromosome16': 1}\n",
            "7\n",
            "{'chromosome1': [], 'chromosome2': [], 'chromosome3': [], 'chromosome4': [913864, 1447482], 'chromosome5': [287566], 'chromosome6': [], 'chromosome7': [], 'chromosome8': [], 'chromosome9': [357224], 'chromosome10': [], 'chromosome11': [581895], 'chromosome12': [], 'chromosome13': [137320], 'chromosome14': [], 'chromosome15': [], 'chromosome16': [116592]}\n"
          ]
        }
      ]
    }
  ],
  "metadata": {
    "colab": {
      "provenance": []
    },
    "kernelspec": {
      "display_name": "Python 3.11.0 64-bit",
      "language": "python",
      "name": "python311064bite3dd30ed50dd442999218d3f71601056"
    },
    "language_info": {
      "codemirror_mode": {
        "name": "ipython",
        "version": 3
      },
      "file_extension": ".py",
      "mimetype": "text/x-python",
      "name": "python",
      "nbconvert_exporter": "python",
      "pygments_lexer": "ipython3",
      "version": "3.11.0"
    }
  },
  "nbformat": 4,
  "nbformat_minor": 0
}
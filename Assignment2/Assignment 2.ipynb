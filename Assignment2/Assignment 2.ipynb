{
  "cells": [
    {
      "cell_type": "code",
      "execution_count": null,
      "metadata": {
        "colab": {
          "base_uri": "https://localhost:8080/"
        },
        "id": "cLMIGK66RgTj",
        "outputId": "96489f84-9205-4938-8f84-b4afd8347e5f"
      },
      "outputs": [
        {
          "name": "stdout",
          "output_type": "stream",
          "text": [
            "Collecting biopython\n",
            "  Downloading biopython-1.83-cp310-cp310-manylinux_2_17_x86_64.manylinux2014_x86_64.whl (3.1 MB)\n",
            "\u001b[2K     \u001b[90m━━━━━━━━━━━━━━━━━━━━━━━━━━━━━━━━━━━━━━━━\u001b[0m \u001b[32m3.1/3.1 MB\u001b[0m \u001b[31m14.0 MB/s\u001b[0m eta \u001b[36m0:00:00\u001b[0m\n",
            "\u001b[?25hRequirement already satisfied: numpy in /usr/local/lib/python3.10/dist-packages (from biopython) (1.25.2)\n",
            "Installing collected packages: biopython\n",
            "Successfully installed biopython-1.83\n"
          ]
        }
      ],
      "source": [
        "!pip install biopython"
      ]
    },
    {
      "cell_type": "code",
      "execution_count": null,
      "metadata": {
        "id": "LI2JjVimRpgH"
      },
      "outputs": [],
      "source": [
        "from Bio import Entrez\n",
        "Entrez.email = \"noel22338@iiitd.ac.in\"\n",
        "handle = Entrez.einfo()\n",
        "record = Entrez.read(handle)"
      ]
    },
    {
      "cell_type": "code",
      "execution_count": null,
      "metadata": {
        "id": "4kxrriduRrKy"
      },
      "outputs": [],
      "source": [
        "def download_fasta(email, accession_number, output_file):\n",
        "    Entrez.email = email\n",
        "    handle = Entrez.efetch(db = 'nucleotide', id = accession_number, rettype = 'fasta', retmode = 'text')\n",
        "    sequence = handle.read()\n",
        "    with open(output_file, 'w') as f:\n",
        "        f.write(sequence)\n",
        "\n",
        "# The above function takes arguments and and writes the sequence to an output file"
      ]
    },
    {
      "cell_type": "code",
      "execution_count": null,
      "metadata": {
        "id": "P8PzlUhtRwhq"
      },
      "outputs": [],
      "source": [
        "email = \"noel22338@iiitd.ac.in\"\n",
        "chromosome_12_id = 'NC_001144.5'\n",
        "chromosome_7_id = 'NC_001139.9'\n",
        "download_fasta(email, chromosome_12_id, \"chromosome12.fasta\")\n",
        "download_fasta(email, chromosome_7_id, \"chromosome7.fasta\")"
      ]
    },
    {
      "cell_type": "markdown",
      "metadata": {
        "id": "z8y2JvqTTItP"
      },
      "source": [
        "Based on this [database](https://https://yeastgenome.org/locus/S000004034/sequence) I found out the indices and the respective chromosomes for PDC1, PDC5, and PDC6. I had previously downloaded the chromosome12 and chromosome7 sequence, so using these fasta files I was able to extract the sequences for the PDC genes and stored them in a dictionary called \"gene_sequences\"."
      ]
    },
    {
      "cell_type": "code",
      "execution_count": null,
      "metadata": {
        "id": "EbmtYtsmWJ8a"
      },
      "outputs": [],
      "source": [
        "from Bio import SeqIO\n",
        "gene_sequences = {}\n",
        "for seq_record in list(SeqIO.parse(f\"chromosome12.fasta\", \"fasta\")):\n",
        "    gene_sequences['PDC1'] = seq_record.seq[232389:234081]\n",
        "    gene_sequences['PDC5'] = seq_record.seq[410722:412414]\n",
        "\n",
        "for seq_record in list(SeqIO.parse(f\"chromosome7.fasta\", \"fasta\")):\n",
        "    gene_sequences['PDC6'] = seq_record.seq[651289:652981]"
      ]
    },
    {
      "cell_type": "code",
      "execution_count": null,
      "metadata": {
        "colab": {
          "base_uri": "https://localhost:8080/"
        },
        "id": "6Y5OtymJWyva",
        "outputId": "08d1c857-2a06-42ce-ecb0-468eec948b98"
      },
      "outputs": [
        {
          "name": "stdout",
          "output_type": "stream",
          "text": [
            "PDC1:   1692     TTATTGCTTAGCGTTGGTAGCAGCAGTCAACTTAGCTTGTTCAACCAAGTTTTGTGGAGCATCGAAGACTGGCAACATGATTTCAATCATTCTGATCTTAGAGTTGTCGTTGAAAGACTTGTCTTGGGTCAACTTGTCCCATTCACCGGTGGTAGCGACTCTGTGGGTTTCATAGTCCTTAGCACCGAAAGTTGGCAACAAGGATAGGTGGTCCCAACCTTGAATTTCGTTGTATTGAGCCTTTGGACCGTGAATCAACTTTTCAATGGTGTAACCATCGTTGTTCAAGACGAACAAGTATGGCTTCAAGCCCCATCTGATCATGGTGGAGATTTCTTGAACAGTCAATTGCAAAGAACCGTCACCAATGAATAAGATAACTCTCTTCTTTGGATCAATTTCTTCAGCAGCGAAAGCAGCACCCAAGGTAGCACCAGTGGTGAAACCAATGGAACCCCATAAGACTTGAGAGATACCGTAGGTGTTGTTTGGGAAAGTGGTTTGGTTGATACCGAAAGCGGAGGTACCGGTTTCAGCAATGACAACATCACCTTCTTGCAAGAAGTTACCCAATTGGTTCCACATCCATTCTTGCTTCAATGGGGTAGAAGCTGGGACAGCAGCGTTAGCTGGAGTTCTAGCTGGGACAGCAACTGGCTTGTAACCCTTAGCGGCGTCAGCAATAGTGGTCAACAACTTTTGCAAAACGAATTTCATTTGGACACCTGGGAAAGTGGCGTTTCTGATCTTCATGTGGTCGGAGTGGAATTCGACAATGTTCTTGGTCTTGTAAGAGTAAGAGAAAGAACCGGTGTTGAAATCAGACAACAAAGCACCGACAGACAAAATCAAGTCAGCAGATTCAACGGCTTCCTTAACTTCTGGCTTGGACAAGGTACCGACGTAAACACCACCGTATCTTGGGTGTTGTTCGTCAATGGAACCCTTACCCATTGGGGTGACGAAAGCTGGGAATTGAGTCAAGTCAATCAACTTCTTAGTTTCAGCCTTGACGTCGTGTCTGGAACAACAAGCATCAGCCAAGATAACTGGGTTCTTAGCATCCTTGACCAAAGCCAAGATGGTGTCAATGACTTCCTTTTCGGATTCAGCATCGTTTGGCTTCAAAGACATGTCAATTGGAGTTTGCAACAACTTAGCTGGGACGTTCAAGTCGACCAAGTTAGCTGGCAAACCTAAGTAGACTGGTCTTTGGGTGACGTAAGTGGTTCTGATACATCTGTCAATTTCAGCTGGGGCGGTAGCAATGTCAGTGATCATAGCAGTGGTTTCAGAAATGTTGGCAGACATTCTGTGGAAAACAGTGAAGTCACCGTTACCCAAGGTGTGGTGCAACAACAATTGCTTAGCTTGAGCAGAGATGGATGGGACACCAACAACGTGCAAAACACCGACGTGTTCAGCGTAAGAACCGGCAATACCGTTCAAAGCAGACAATTCACCGACACCGAAGGTGGTGATGATACAAGACATACCCTTGATACGAGCGTAACCATCAGCGGCGTAAGCAGCGTTCAATTCGTTGGCGTTACCAGCCCATCTCATACCTTCAACTTCGTAGATCTTGTCCAACAAGGACAAGTTGAAGTCACCTGGCAAACCGAAAACGGTGTTAACGTTGACTTGCTTTAATCTTTCGAACAAATATTTACCCAAAGTAATTTCAGACAT\n",
            "PDC5:   1692     ATGTCTGAAATAACCTTAGGTAAATATTTATTTGAAAGATTGAGCCAAGTCAACTGTAACACCGTCTTCGGTTTGCCAGGTGACTTTAACTTGTCTCTTTTGGATAAGCTTTATGAAGTCAAAGGTATGAGATGGGCTGGTAACGCTAACGAATTGAACGCTGCCTATGCTGCTGATGGTTACGCTCGTATCAAGGGTATGTCCTGTATTATTACCACCTTCGGTGTTGGTGAATTGTCTGCTTTGAATGGTATTGCCGGTTCTTACGCTGAACATGTCGGTGTTTTGCACGTTGTTGGTGTTCCATCCATCTCTTCTCAAGCTAAGCAATTGTTGTTGCATCATACCTTGGGTAACGGTGACTTCACTGTTTTCCACAGAATGTCTGCCAACATTTCTGAAACCACTGCCATGATCACTGATATTGCTAACGCTCCAGCTGAAATTGACAGATGTATCAGAACCACCTACACTACCCAAAGACCAGTCTACTTGGGTTTGCCAGCTAACTTGGTTGACTTGAACGTCCCAGCCAAGTTATTGGAAACTCCAATTGACTTGTCTTTGAAGCCAAACGACGCTGAAGCTGAAGCTGAAGTTGTTAGAACTGTTGTTGAATTGATCAAGGATGCTAAGAACCCAGTTATCTTGGCTGATGCTTGTGCTTCTAGACATGATGTCAAGGCTGAAACTAAGAAGTTGATGGACTTGACTCAATTCCCAGTTTACGTCACCCCAATGGGTAAGGGTGCTATTGACGAACAACACCCAAGATACGGTGGTGTTTACGTTGGTACCTTGTCTAGACCAGAAGTTAAGAAGGCTGTAGAATCTGCTGATTTGATATTGTCTATCGGTGCTTTGTTGTCTGATTTCAATACCGGTTCTTTCTCTTACTCCTACAAGACCAAAAATATCGTTGAATTCCACTCTGACCACATCAAGATCAGAAACGCCACCTTCCCAGGTGTTCAAATGAAATTTGCCTTGCAAAAATTGTTGGATGCTATTCCAGAAGTCGTCAAGGACTACAAACCTGTTGCTGTCCCAGCTAGAGTTCCAATTACCAAGTCTACTCCAGCTAACACTCCAATGAAGCAAGAATGGATGTGGAACCATTTGGGTAACTTCTTGAGAGAAGGTGATATTGTTATTGCTGAAACCGGTACTTCCGCCTTCGGTATTAACCAAACTACTTTCCCAACAGATGTATACGCTATCGTCCAAGTCTTGTGGGGTTCCATTGGTTTCACAGTCGGCGCTCTATTGGGTGCTACTATGGCCGCTGAAGAACTTGATCCAAAGAAGAGAGTTATTTTATTCATTGGTGACGGTTCTCTACAATTGACTGTTCAAGAAATCTCTACCATGATTAGATGGGGTTTGAAGCCATACATTTTTGTCTTGAATAACAACGGTTACACCATTGAAAAATTGATTCACGGTCCTCATGCCGAATATAATGAAATTCAAGGTTGGGACCACTTGGCCTTATTGCCAACTTTTGGTGCTAGAAACTACGAAACCCACAGAGTTGCTACCACTGGTGAATGGGAAAAGTTGACTCAAGACAAGGACTTCCAAGACAACTCTAAGATTAGAATGATTGAAGTTATGTTGCCAGTCTTTGATGCTCCACAAAACTTGGTTAAACAAGCTCAATTGACTGCCGCTACTAACGCTAAACAATAA\n",
            "PDC6:   1692     TTATTGTTTGGCATTTGTAGCGGCAGTCAATTGCGCTTGTTTGATCAAACTTTCCGGAGCATCAAAGACGGGCAGTTTCAGTTCAATTAGTCTGATCACCGAGTTTTTCTGGAACTCTGAATCAGTGGTTAAGGCATCCCACTCACCCGTAGTGGCGATCTTGTGATTTTCGTACTTTTTCGCACCAAATGCGGGCAACAGGGCGAGGTGATCCCAGGTCTGGATTTCGTTGTACTCTGCGTGAGGCCCATGAATCAGCTTTTCGATAGTGTAGCCGTCGTTGTTAAGGACAAAAAGATACGGCTTTAACCCCCATCTGATCATGGTGGAGATTTCTTGGACGGTTAACTGCAAAGACCCGTCACCTATGAATAAGATGACTCTCTTGTTGGGGTCAATCTCCTCAGCGGCAAAGGCAGCACCTAAAGTTGCTCCTGTTGTAAAACCGATGGACCCCCACAACACCTGCGAGATACCGTAGGCGTCCTTAGGAAAGATAGTTTGATTGATACCGAAGGCAGACGTGCCGGTCTCGGAAATGATAACATCACCTTCTTGCAAGAATTTGGACAATTCGTTCCACAACCACTCTTGTTTCAAGGGCGTGCTAGCAGGTACACCTTTGTTTGCGGGAGTTTTGGTTGGTACGGGAACGCTCTTGTAGCCCTTAACAACATCGGGAATAACCTTCAGTAAGTTTTGTAGTGCAAATTTCATTTGTACACCGAGGAACGTAGCGTTCTTCACCTTTACGTAATCGGAATGAAACTCCACTACATTTTTAGTCTTGTAGGAGTAGGAAAACGAACCTGTGTTAAAATCAGAGAGCAAAGCACCGACCGAAAGGATCAAATCAGCCGACTCAACGGCCTGTTTCACGTCTTGTTTGGACAGCGTTCCCACATAAACACCGCCATATCTGGGATGCTGTTCATCTATTGACCCTTTACCTAGAGGTGTCACAAAAGCTGGGAATTGCGTCAAATCAATTAACTTCTGGGTTTCTTTTTTAACGTTGTGCCTAGAAGCACAGGCATCCGATAGTATAACAGGGTTTTTCGAATTCTGGATCAATTCTAGTACGGTATCAATAACTTCCTTTTCAGCTTCGGGATCGTTAGGTTTTAATGATAGATCAATCGGTTTTTCCAAAAGAGAACCAGGAACCTTTAGATCTACCAAATTCGCTGGCAACCCCAAGTAGCTAGGCCTTTGTGTTATAAATGTTGTCCTGATCAACCTATCGATTTCTGAAGGGGCTGTAGCAATGTCTGTAATCATTGATGTAGTTTCTGAGATATTGGCGGACATTCTGTGAAAAACGGTAAAATCACCGTTACCCAAGGTATGATGCAACAACAATTGCTTAGCCTGAGCGGAGATAGAGGGGACACCAACAACATGCAGTACACCGACGTGTTCTGCATACGATCCTGCAATACCATTCAAGGCGGATAATTCACCTACGCCAAAAGTAGTTACCAGCACAGATAAACCCTTGATGCGTGCGTAACCATCGGCGGCATAGGCGGCGTTCAGCTCATTTGCATTACCAGCCCATCTCAATCCATCTACCTCGTAAATCTTGTCCAATAGGGACAAGTTGAAGTCGCCTGGTAGCCCAAAAATGGTGTTAACATTAACTTGCTTCAATCTTTCAAATAAGTATTTTCCAAGAGTAATTTCAGACAT\n",
            "********************************************\n",
            "Reverse complement of PDC 1: ATGTCTGAAATTACTTTGGGTAAATATTTGTTCGAAAGATTAAAGCAAGTCAACGTTAACACCGTTTTCGGTTTGCCAGGTGACTTCAACTTGTCCTTGTTGGACAAGATCTACGAAGTTGAAGGTATGAGATGGGCTGGTAACGCCAACGAATTGAACGCTGCTTACGCCGCTGATGGTTACGCTCGTATCAAGGGTATGTCTTGTATCATCACCACCTTCGGTGTCGGTGAATTGTCTGCTTTGAACGGTATTGCCGGTTCTTACGCTGAACACGTCGGTGTTTTGCACGTTGTTGGTGTCCCATCCATCTCTGCTCAAGCTAAGCAATTGTTGTTGCACCACACCTTGGGTAACGGTGACTTCACTGTTTTCCACAGAATGTCTGCCAACATTTCTGAAACCACTGCTATGATCACTGACATTGCTACCGCCCCAGCTGAAATTGACAGATGTATCAGAACCACTTACGTCACCCAAAGACCAGTCTACTTAGGTTTGCCAGCTAACTTGGTCGACTTGAACGTCCCAGCTAAGTTGTTGCAAACTCCAATTGACATGTCTTTGAAGCCAAACGATGCTGAATCCGAAAAGGAAGTCATTGACACCATCTTGGCTTTGGTCAAGGATGCTAAGAACCCAGTTATCTTGGCTGATGCTTGTTGTTCCAGACACGACGTCAAGGCTGAAACTAAGAAGTTGATTGACTTGACTCAATTCCCAGCTTTCGTCACCCCAATGGGTAAGGGTTCCATTGACGAACAACACCCAAGATACGGTGGTGTTTACGTCGGTACCTTGTCCAAGCCAGAAGTTAAGGAAGCCGTTGAATCTGCTGACTTGATTTTGTCTGTCGGTGCTTTGTTGTCTGATTTCAACACCGGTTCTTTCTCTTACTCTTACAAGACCAAGAACATTGTCGAATTCCACTCCGACCACATGAAGATCAGAAACGCCACTTTCCCAGGTGTCCAAATGAAATTCGTTTTGCAAAAGTTGTTGACCACTATTGCTGACGCCGCTAAGGGTTACAAGCCAGTTGCTGTCCCAGCTAGAACTCCAGCTAACGCTGCTGTCCCAGCTTCTACCCCATTGAAGCAAGAATGGATGTGGAACCAATTGGGTAACTTCTTGCAAGAAGGTGATGTTGTCATTGCTGAAACCGGTACCTCCGCTTTCGGTATCAACCAAACCACTTTCCCAAACAACACCTACGGTATCTCTCAAGTCTTATGGGGTTCCATTGGTTTCACCACTGGTGCTACCTTGGGTGCTGCTTTCGCTGCTGAAGAAATTGATCCAAAGAAGAGAGTTATCTTATTCATTGGTGACGGTTCTTTGCAATTGACTGTTCAAGAAATCTCCACCATGATCAGATGGGGCTTGAAGCCATACTTGTTCGTCTTGAACAACGATGGTTACACCATTGAAAAGTTGATTCACGGTCCAAAGGCTCAATACAACGAAATTCAAGGTTGGGACCACCTATCCTTGTTGCCAACTTTCGGTGCTAAGGACTATGAAACCCACAGAGTCGCTACCACCGGTGAATGGGACAAGTTGACCCAAGACAAGTCTTTCAACGACAACTCTAAGATCAGAATGATTGAAATCATGTTGCCAGTCTTCGATGCTCCACAAAACTTGGTTGAACAAGCTAAGTTGACTGCTGCTACCAACGCTAAGCAATAA\n",
            "Reverse complement of PDC 6: ATGTCTGAAATTACTCTTGGAAAATACTTATTTGAAAGATTGAAGCAAGTTAATGTTAACACCATTTTTGGGCTACCAGGCGACTTCAACTTGTCCCTATTGGACAAGATTTACGAGGTAGATGGATTGAGATGGGCTGGTAATGCAAATGAGCTGAACGCCGCCTATGCCGCCGATGGTTACGCACGCATCAAGGGTTTATCTGTGCTGGTAACTACTTTTGGCGTAGGTGAATTATCCGCCTTGAATGGTATTGCAGGATCGTATGCAGAACACGTCGGTGTACTGCATGTTGTTGGTGTCCCCTCTATCTCCGCTCAGGCTAAGCAATTGTTGTTGCATCATACCTTGGGTAACGGTGATTTTACCGTTTTTCACAGAATGTCCGCCAATATCTCAGAAACTACATCAATGATTACAGACATTGCTACAGCCCCTTCAGAAATCGATAGGTTGATCAGGACAACATTTATAACACAAAGGCCTAGCTACTTGGGGTTGCCAGCGAATTTGGTAGATCTAAAGGTTCCTGGTTCTCTTTTGGAAAAACCGATTGATCTATCATTAAAACCTAACGATCCCGAAGCTGAAAAGGAAGTTATTGATACCGTACTAGAATTGATCCAGAATTCGAAAAACCCTGTTATACTATCGGATGCCTGTGCTTCTAGGCACAACGTTAAAAAAGAAACCCAGAAGTTAATTGATTTGACGCAATTCCCAGCTTTTGTGACACCTCTAGGTAAAGGGTCAATAGATGAACAGCATCCCAGATATGGCGGTGTTTATGTGGGAACGCTGTCCAAACAAGACGTGAAACAGGCCGTTGAGTCGGCTGATTTGATCCTTTCGGTCGGTGCTTTGCTCTCTGATTTTAACACAGGTTCGTTTTCCTACTCCTACAAGACTAAAAATGTAGTGGAGTTTCATTCCGATTACGTAAAGGTGAAGAACGCTACGTTCCTCGGTGTACAAATGAAATTTGCACTACAAAACTTACTGAAGGTTATTCCCGATGTTGTTAAGGGCTACAAGAGCGTTCCCGTACCAACCAAAACTCCCGCAAACAAAGGTGTACCTGCTAGCACGCCCTTGAAACAAGAGTGGTTGTGGAACGAATTGTCCAAATTCTTGCAAGAAGGTGATGTTATCATTTCCGAGACCGGCACGTCTGCCTTCGGTATCAATCAAACTATCTTTCCTAAGGACGCCTACGGTATCTCGCAGGTGTTGTGGGGGTCCATCGGTTTTACAACAGGAGCAACTTTAGGTGCTGCCTTTGCCGCTGAGGAGATTGACCCCAACAAGAGAGTCATCTTATTCATAGGTGACGGGTCTTTGCAGTTAACCGTCCAAGAAATCTCCACCATGATCAGATGGGGGTTAAAGCCGTATCTTTTTGTCCTTAACAACGACGGCTACACTATCGAAAAGCTGATTCATGGGCCTCACGCAGAGTACAACGAAATCCAGACCTGGGATCACCTCGCCCTGTTGCCCGCATTTGGTGCGAAAAAGTACGAAAATCACAAGATCGCCACTACGGGTGAGTGGGATGCCTTAACCACTGATTCAGAGTTCCAGAAAAACTCGGTGATCAGACTAATTGAACTGAAACTGCCCGTCTTTGATGCTCCGGAAAGTTTGATCAAACAAGCGCAATTGACTGCCGCTACAAATGCCAAACAATAA\n"
          ]
        }
      ],
      "source": [
        "from Bio import Seq\n",
        "for pdc, seq in gene_sequences.items():\n",
        "  print(f\"{pdc}:   {len(seq)}     {seq}\")\n",
        "\n",
        "print(\"********************************************\")\n",
        "print(\"Reverse complement of PDC 1: \" + Seq.reverse_complement(gene_sequences['PDC1']))\n",
        "print(\"Reverse complement of PDC 6: \" + Seq.reverse_complement(gene_sequences['PDC6']))\n"
      ]
    },
    {
      "cell_type": "markdown",
      "metadata": {
        "id": "ePyAU5bEUnDH"
      },
      "source": [
        "The below ***translate*** function takes the File IO object, the subject sequence and the query sequence as parameters. It writes the DNA sequences, as well as the translated sequences into the file. It makes sure there are no gaps in the sequences."
      ]
    },
    {
      "cell_type": "code",
      "execution_count": null,
      "metadata": {
        "id": "9Nl8nRrW3crm"
      },
      "outputs": [],
      "source": [
        "from Bio import Seq\n",
        "\n",
        "def translate(myfile, main_sequence, pdc_sequence, title):\n",
        "\n",
        "  if (main_sequence.count(\"-\") == 0 and pdc_sequence.count(\"-\") == 0):\n",
        "\n",
        "    if (len(main_sequence) % 3 == 0):\n",
        "      myfile.write(f\"Title: {title}\\n\")\n",
        "      myfile.write(f\"Main seq: {main_sequence}\\n\")\n",
        "      myfile.write(f\"PDC seq: {pdc_sequence}\\n\")\n",
        "      myfile.write(f\"Main translated seq: {Seq.translate(main_sequence)}\\n\")\n",
        "      myfile.write(f\"PDC translated seq: {Seq.translate(pdc_sequence)}\\n\")\n",
        "      myfile.write(f\"{'*' * 1692}\\n\")\n"
      ]
    },
    {
      "cell_type": "markdown",
      "metadata": {
        "id": "PXK-wQx6VnF4"
      },
      "source": [
        "The below ***SNP_writer*** function takes File IO object, hsp (Highest Scoring Pair), and the count (how many hsps in that particular element). \"hsp\" is an object that contains attributes like:\n",
        "1. **hsp.score** -> Score of the alignment\n",
        "2. **hsp.expect** -> Expectation value\n",
        "3. **hsp.query** -> The query sequence you performed blast with\n",
        "4. **hsp.sbjct** -> A particular section of a strain against with alignment was performed."
      ]
    },
    {
      "cell_type": "code",
      "execution_count": null,
      "metadata": {
        "id": "d4gJK9v77uQm"
      },
      "outputs": [],
      "source": [
        "def SNP_writer(myfile, hsp, count):\n",
        "  main_sequence = hsp.sbjct\n",
        "  pdc_sequence = hsp.query\n",
        "\n",
        "\n",
        "  myfile.write(f\"HSP count: {count}\\n\");\n",
        "  myfile.write(f\"HSP score: {hsp.score}\\n\")\n",
        "  myfile.write(f\"HSP expect: {hsp.expect}\\n\")\n",
        "  myfile.write(f\"HSP start: {hsp.sbjct_start}\\n\")\n",
        "  myfile.write(f\"HSP end: {hsp.sbjct_end}\\n\")\n",
        "  myfile.write(f\"Length of seq: {len(pdc_sequence)}\\n\")\n",
        "\n",
        "  count = 0\n",
        "\n",
        "  for i in range(len(main_sequence)):\n",
        "    if main_sequence[i] != pdc_sequence[i]:\n",
        "      count+=1\n",
        "      myfile.write(f\"SNP {count} at pos {i+1}: {pdc_sequence[i]} -> {main_sequence[i]}\\n\")\n",
        "\n",
        "\n",
        "  myfile.write(\"----------------------\\n\")\n"
      ]
    },
    {
      "cell_type": "markdown",
      "metadata": {
        "id": "HWCkDn9JXPRz"
      },
      "source": [
        "The below function ***blast_routine*** takes the PDC_gene_no as input and this can take values PDC1, PDC5 an PDC6. Based on this input, it writes to specific output files having a certain nomenclature and hsps are found out."
      ]
    },
    {
      "cell_type": "code",
      "execution_count": null,
      "metadata": {
        "id": "3ya0RLe9Bf1i"
      },
      "outputs": [],
      "source": [
        "def blast_routine(PDC_gene_no):\n",
        "\n",
        "  E_VALUE_THRESH = 1e-4\n",
        "  myfile = open(f\"snp_results {PDC_gene_no}.txt\", \"w\")\n",
        "  file2 = open(f\"translate_results {PDC_gene_no}.txt\",\"w\")\n",
        "  blast_records = NCBIXML.parse(open(f\"blast_results {PDC_gene_no}.xml\"))\n",
        "  alignment_count = 0\n",
        "  for record in blast_records:\n",
        "      for alignment in record.alignments:\n",
        "        myfile.write(f\"Title: {alignment.title}\\n\")\n",
        "        alignment_count += 1\n",
        "        count = 0\n",
        "        for hsp in alignment.hsps:\n",
        "          if (hsp.expect < E_VALUE_THRESH):\n",
        "            count+=1;\n",
        "            SNP_writer(myfile,hsp, count)\n",
        "            translate(file2,hsp.sbjct,hsp.query, alignment.title)\n",
        "\n"
      ]
    },
    {
      "cell_type": "markdown",
      "metadata": {
        "id": "2y5N7QTKSKmZ"
      },
      "source": [
        "Based on research I performed I found out that PDC1 and PDC6 have to be reverse complemented as these genes lie on the opposite strands to perform blast for the same. I realised this from this:\n",
        "\n",
        "1. [PDC1](https://yeastgenome.org/locus/S000004034/sequence)\n",
        "2. [PDC5](https://www.yeastgenome.org/locus/S000004124/sequence)\n",
        "3. [PDC6](https://www.yeastgenome.org/locus/S000003319/sequence)"
      ]
    },
    {
      "cell_type": "code",
      "execution_count": null,
      "metadata": {
        "colab": {
          "background_save": true
        },
        "id": "03GfGFdM-kLL"
      },
      "outputs": [],
      "source": [
        "E_VALUE_THRESH = 1e-4\n",
        "from Bio.Blast import NCBIXML,NCBIWWW\n",
        "\n",
        "for pdc_no, sequence_data in gene_sequences.items():\n",
        "\n",
        "  if pdc_no in ['PDC1','PDC6']:\n",
        "    reverse_complement_data = Seq.reverse_complement(sequence_data)\n",
        "    result_handle = NCBIWWW.qblast(\"blastn\", \"nt\", reverse_complement_data)\n",
        "\n",
        "  else:\n",
        "    result_handle = NCBIWWW.qblast(\"blastn\", \"nt\", sequence_data)\n",
        "\n",
        "  with open(f\"blast_results {pdc_no}.xml\",\"w\") as xmlfile:\n",
        "    blast_results = result_handle.read()\n",
        "    xmlfile.write(blast_results)"
      ]
    },
    {
      "cell_type": "code",
      "execution_count": null,
      "metadata": {
        "colab": {
          "background_save": true
        },
        "id": "fuLpY5-j4N6P"
      },
      "outputs": [],
      "source": [
        "#After XML files are prepared, finding SNPs and translation are performed.\n",
        "blast_routine('PDC1')\n",
        "blast_routine('PDC5')\n",
        "blast_routine('PDC6')"
      ]
    },
    {
      "cell_type": "markdown",
      "metadata": {
        "id": "3oIeNgfZzshC"
      },
      "source": [
        "There is a report attached PolyPhen-2 report PDC1.pdf.\n",
        "\n",
        "This is report for amino acid substitution for:\n",
        "\n",
        "**Title**: gi|1586061137|gb|CP036478.1| Saccharomyces cerevisiae strain ySR128 chromosome XII, complete sequence\n",
        "\n",
        "**Positions**\n",
        "410631 - 412322\n",
        "\n",
        "**PDC Amino Acid**\n",
        "\n",
        "At position 15 I noticed there was a mutation from K -> S. I used [Polyphen-2](http://genetics.bwh.harvard.edu/ggi/pph2/757f2671575867bab9da8be0c3509da251312f4b/9647091.html)"
      ]
    }
  ],
  "metadata": {
    "colab": {
      "provenance": []
    },
    "kernelspec": {
      "display_name": "Python 3",
      "name": "python3"
    },
    "language_info": {
      "name": "python"
    }
  },
  "nbformat": 4,
  "nbformat_minor": 0
}
